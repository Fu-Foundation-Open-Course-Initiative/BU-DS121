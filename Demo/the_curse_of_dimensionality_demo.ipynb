{
  "cells": [
    {
      "attachments": {},
      "cell_type": "markdown",
      "metadata": {
        "id": "fuzeISnH_WAw"
      },
      "source": [
        "# Curse of Dimensionality Demo"
      ]
    },
    {
      "cell_type": "markdown",
      "metadata": {
        "id": "_GOIltJq85zg"
      },
      "source": [
        "In this example, we generate random data in hypercubes of different dimensions, and calculate the time it takes to compute the distances between a randomly chosen point and all the other points in the dataset.\n",
        "\n",
        "As the dimensionality increases, the distance between points becomes less meaningful, and the amount of data required to \"fill\" the space increases exponentially. This leads to a significant increase in computation time as the dimensionality grows.\n",
        "\n",
        "You should see that the time required to calculate the distances increases dramatically as the dimensionality of the data increases, which is a clear demonstration of the curse of dimensionality."
      ]
    },
    {
      "cell_type": "code",
      "execution_count": null,
      "metadata": {
        "colab": {
          "base_uri": "https://localhost:8080/"
        },
        "id": "mXJ_TyN98xfo",
        "outputId": "06fb51aa-816a-4572-9aaf-7d9e8cd24f94"
      },
      "outputs": [
        {
          "ename": "",
          "evalue": "",
          "output_type": "error",
          "traceback": [
            "\u001b[1;31mFailed to start the Kernel. \n",
            "\u001b[1;31mKernel Python 3.9.6 is not usable. Check the Jupyter output tab for more information. \n",
            "\u001b[1;31mView Jupyter <a href='command:jupyter.viewOutput'>log</a> for further details."
          ]
        }
      ],
      "source": [
        "import numpy as np\n",
        "import time\n",
        "\n",
        "def generate_data(dimension, num_points):\n",
        "    \"\"\"\n",
        "    Generate random data in a hypercube of a given dimension and number of points.\n",
        "    \"\"\"\n",
        "    data = np.random.rand(num_points, dimension)\n",
        "    return data\n",
        "\n",
        "def calculate_distance(point, data):\n",
        "    \"\"\"\n",
        "    Calculate the distance between a point and all other points in a dataset.\n",
        "    \"\"\"\n",
        "    distances = np.linalg.norm(data - point, axis=1)\n",
        "    return distances\n",
        "\n",
        "def main():\n",
        "    # Define the number of points and dimensions to test\n",
        "    num_points = 1000\n",
        "    dimensions = [2, 5, 10, 50, 100, 500, 1000]\n",
        "\n",
        "    # Generate random data in each dimension and time how long it takes to calculate the distances\n",
        "    for d in dimensions:\n",
        "        data = generate_data(d, num_points)\n",
        "        point = np.random.rand(d)\n",
        "        start_time = time.time()\n",
        "        distances = calculate_distance(point, data)\n",
        "        end_time = time.time()\n",
        "        print(f\"Dimension {d}: {end_time - start_time:.5f} seconds\")\n",
        "        \n",
        "if __name__ == \"__main__\":\n",
        "    main()\n"
      ]
    }
  ],
  "metadata": {
    "colab": {
      "provenance": []
    },
    "kernelspec": {
      "display_name": "Python 3",
      "language": "python",
      "name": "python3"
    },
    "language_info": {
      "name": "python",
      "version": "3.9.6"
    },
    "vscode": {
      "interpreter": {
        "hash": "31f2aee4e71d21fbe5cf8b01ff0e069b9275f58929596ceb00d14d90e3e16cd6"
      }
    }
  },
  "nbformat": 4,
  "nbformat_minor": 0
}
