{
  "nbformat": 4,
  "nbformat_minor": 0,
  "metadata": {
    "colab": {
      "provenance": []
    },
    "kernelspec": {
      "name": "python3",
      "display_name": "Python 3"
    },
    "language_info": {
      "name": "python"
    }
  },
  "cells": [
    {
      "cell_type": "code",
      "execution_count": 20,
      "metadata": {
        "id": "U3VeZ4HIWEjy"
      },
      "outputs": [],
      "source": [
        "import pandas as pd\n",
        "import numpy as np\n",
        "import matplotlib.pyplot as plt"
      ]
    },
    {
      "cell_type": "markdown",
      "source": [
        "###The K-means cost function\n",
        "\n",
        "$$\\sum_{i=1}^n min_k ||x_i - c_j||^2 $$\n",
        "\n",
        "where: \\\n",
        " $x_i =$ every point in the cluster other than the centroid. \\\n",
        " $c_j =$ the centroid."
      ],
      "metadata": {
        "id": "PS_SKlbUWN8D"
      }
    },
    {
      "cell_type": "markdown",
      "source": [
        "###K-means steps:\n",
        "\n",
        "1. Pick cluster centers . These can be chosen randomly, or by some\n",
        "other method.\n",
        "2. For each , define the cluster as the set of points in that are closest to\n",
        "center.\n",
        "3. For each , redefine to be the center of mass of cluster.\n",
        "4. Repeat (i.e., go to Step 2) until convergence."
      ],
      "metadata": {
        "id": "W8mYlDPSeb56"
      }
    },
    {
      "cell_type": "markdown",
      "source": [
        "###Coding the K-means algorithm following the steps above"
      ],
      "metadata": {
        "id": "Skf7nshpfDJR"
      }
    },
    {
      "cell_type": "markdown",
      "source": [
        "####Generating data points"
      ],
      "metadata": {
        "id": "5vnod_RdfgWF"
      }
    },
    {
      "cell_type": "code",
      "source": [
        "X= -0.5 + np.random.rand(100,2)\n",
        "X1 = 0.5 + np.random.rand(50,2)\n",
        "X[50:100, :] = X1\n",
        "plt.scatter(X[ : , 0], X[ :, 1], s = 20, c = 'k')\n"
      ],
      "metadata": {
        "colab": {
          "base_uri": "https://localhost:8080/",
          "height": 283
        },
        "id": "iTPIGIFWWJ96",
        "outputId": "19ed6128-399a-44f7-d1df-984e8c5ba4a2"
      },
      "execution_count": 4,
      "outputs": [
        {
          "output_type": "execute_result",
          "data": {
            "text/plain": [
              "<matplotlib.collections.PathCollection at 0x7f9395eee460>"
            ]
          },
          "metadata": {},
          "execution_count": 4
        },
        {
          "output_type": "display_data",
          "data": {
            "text/plain": [
              "<Figure size 432x288 with 1 Axes>"
            ],
            "image/png": "[encoded data removed]"
          },
          "metadata": {
            "needs_background": "light"
          }
        }
      ]
    },
    {
      "cell_type": "markdown",
      "source": [
        "####Randomly defining centroids"
      ],
      "metadata": {
        "id": "KbVVsS7lfnH_"
      }
    },
    {
      "cell_type": "code",
      "source": [
        "centroids = np.random.rand(2,2)\n",
        "centroids"
      ],
      "metadata": {
        "colab": {
          "base_uri": "https://localhost:8080/"
        },
        "id": "sVB4MQCfYtml",
        "outputId": "ce761daf-96be-466f-e620-4ece0cbecace"
      },
      "execution_count": 5,
      "outputs": [
        {
          "output_type": "execute_result",
          "data": {
            "text/plain": [
              "array([[0.06019154, 0.25021986],\n",
              "       [0.21107635, 0.33894566]])"
            ]
          },
          "metadata": {},
          "execution_count": 5
        }
      ]
    },
    {
      "cell_type": "code",
      "source": [
        "plt.scatter(X[ : , 0], X[ :, 1], s = 20, c = 'k')\n",
        "plt.scatter(centroids[:,0],centroids[:,1],s = 50, c = 'b',marker = '+')\n"
      ],
      "metadata": {
        "colab": {
          "base_uri": "https://localhost:8080/",
          "height": 283
        },
        "id": "Z51P0lqPY011",
        "outputId": "e712949f-2ed2-4682-f118-9e8619bd21e2"
      },
      "execution_count": 6,
      "outputs": [
        {
          "output_type": "execute_result",
          "data": {
            "text/plain": [
              "<matplotlib.collections.PathCollection at 0x7f9395a105e0>"
            ]
          },
          "metadata": {},
          "execution_count": 6
        },
        {
          "output_type": "display_data",
          "data": {
            "text/plain": [
              "<Figure size 432x288 with 1 Axes>"
            ],
            "image/png": "[encoded data removed]"
          },
          "metadata": {
            "needs_background": "light"
          }
        }
      ]
    },
    {
      "cell_type": "markdown",
      "source": [
        "###Computing the distance between the first centroid and the points"
      ],
      "metadata": {
        "id": "NBeMjE6FcQgV"
      }
    },
    {
      "cell_type": "code",
      "source": [
        "dist = np.linalg.norm(X - centroids[0,:],axis=1).reshape(-1,1)\n",
        "print(dist)"
      ],
      "metadata": {
        "colab": {
          "base_uri": "https://localhost:8080/"
        },
        "id": "ug0c0bvrY3By",
        "outputId": "d0c95eee-8749-413d-fb7b-ea6b01bda0e4"
      },
      "execution_count": 8,
      "outputs": [
        {
          "output_type": "stream",
          "name": "stdout",
          "text": [
            "[[0.38329587]\n",
            " [0.56280792]\n",
            " [0.28609783]\n",
            " [0.4224494 ]\n",
            " [0.35687882]\n",
            " [0.22751023]\n",
            " [0.21669363]\n",
            " [0.52138987]\n",
            " [0.73743303]\n",
            " [0.63796982]\n",
            " [0.13978062]\n",
            " [0.41464173]\n",
            " [0.30495209]\n",
            " [0.22503918]\n",
            " [0.57906994]\n",
            " [0.19547398]\n",
            " [0.7051465 ]\n",
            " [0.5728917 ]\n",
            " [0.53648812]\n",
            " [0.56296699]\n",
            " [0.72802284]\n",
            " [0.39001052]\n",
            " [0.17848613]\n",
            " [0.65869796]\n",
            " [0.71241453]\n",
            " [0.42082585]\n",
            " [0.45143679]\n",
            " [0.38963461]\n",
            " [0.22617259]\n",
            " [0.34855136]\n",
            " [0.23554222]\n",
            " [0.26447201]\n",
            " [0.12208172]\n",
            " [0.61941348]\n",
            " [0.66787948]\n",
            " [0.26727577]\n",
            " [0.78046858]\n",
            " [0.45223895]\n",
            " [0.7217184 ]\n",
            " [0.22068893]\n",
            " [0.45769273]\n",
            " [0.40524117]\n",
            " [0.45952317]\n",
            " [0.80580194]\n",
            " [0.39470371]\n",
            " [0.30886141]\n",
            " [0.71752181]\n",
            " [0.45230844]\n",
            " [0.58012668]\n",
            " [0.24052292]\n",
            " [1.26489055]\n",
            " [1.20130332]\n",
            " [1.18313324]\n",
            " [0.83220532]\n",
            " [1.09118601]\n",
            " [1.25791226]\n",
            " [1.69597862]\n",
            " [1.12826431]\n",
            " [1.26933066]\n",
            " [1.24981634]\n",
            " [1.34368293]\n",
            " [1.41227519]\n",
            " [1.11737352]\n",
            " [1.59035848]\n",
            " [0.84982574]\n",
            " [1.35421747]\n",
            " [1.29141993]\n",
            " [1.45178976]\n",
            " [1.53152388]\n",
            " [1.58050007]\n",
            " [1.75021369]\n",
            " [1.41942222]\n",
            " [1.14406715]\n",
            " [1.5732995 ]\n",
            " [1.23586591]\n",
            " [1.23183923]\n",
            " [1.16450732]\n",
            " [1.28555769]\n",
            " [1.0047009 ]\n",
            " [1.15958583]\n",
            " [1.49973263]\n",
            " [1.18984903]\n",
            " [1.6485221 ]\n",
            " [1.61776971]\n",
            " [0.9147762 ]\n",
            " [1.10610094]\n",
            " [1.40525752]\n",
            " [1.4050994 ]\n",
            " [1.18595802]\n",
            " [1.19971633]\n",
            " [1.15425498]\n",
            " [1.42593984]\n",
            " [1.14528596]\n",
            " [1.36336826]\n",
            " [1.3055633 ]\n",
            " [1.31051947]\n",
            " [1.32025204]\n",
            " [1.31406306]\n",
            " [1.54099452]\n",
            " [1.76081706]]\n"
          ]
        }
      ]
    },
    {
      "cell_type": "markdown",
      "source": [
        "###Computing the distance between the 2nd centroid and the points"
      ],
      "metadata": {
        "id": "P7Yhbm2TcXYX"
      }
    },
    {
      "cell_type": "code",
      "source": [
        "dist = np.append(dist,np.linalg.norm(X - centroids[1,:],axis=1).reshape(-1,1),axis=1)\n",
        "dist[:10,:]"
      ],
      "metadata": {
        "colab": {
          "base_uri": "https://localhost:8080/"
        },
        "id": "nj_ZGilKY7PB",
        "outputId": "17638c7a-0b13-4de5-a3ec-fd6b4cd2fb50"
      },
      "execution_count": 9,
      "outputs": [
        {
          "output_type": "execute_result",
          "data": {
            "text/plain": [
              "array([[0.38329587, 0.43327509],\n",
              "       [0.56280792, 0.59230735],\n",
              "       [0.28609783, 0.29509997],\n",
              "       [0.4224494 , 0.54182971],\n",
              "       [0.35687882, 0.49123209],\n",
              "       [0.22751023, 0.1217113 ],\n",
              "       [0.21669363, 0.16277904],\n",
              "       [0.52138987, 0.66996564],\n",
              "       [0.73743303, 0.77976488],\n",
              "       [0.63796982, 0.70313096]])"
            ]
          },
          "metadata": {},
          "execution_count": 9
        }
      ]
    },
    {
      "cell_type": "markdown",
      "source": [
        "####assigning points to clusters based on distance to the centroids"
      ],
      "metadata": {
        "id": "UPO9a7XifwiM"
      }
    },
    {
      "cell_type": "code",
      "source": [
        "classes = np.argmin(dist,axis=1)\n",
        "classes"
      ],
      "metadata": {
        "colab": {
          "base_uri": "https://localhost:8080/"
        },
        "id": "nKG88EPLaHBY",
        "outputId": "5ab30de7-8250-4a14-e481-5063df2d3262"
      },
      "execution_count": 10,
      "outputs": [
        {
          "output_type": "execute_result",
          "data": {
            "text/plain": [
              "array([0, 0, 0, 0, 0, 1, 1, 0, 0, 0, 0, 0, 0, 0, 0, 0, 0, 0, 0, 0, 0, 0,\n",
              "       1, 0, 0, 1, 1, 1, 0, 0, 1, 1, 0, 0, 0, 0, 0, 0, 0, 0, 1, 0, 0, 0,\n",
              "       0, 0, 0, 0, 0, 0, 1, 1, 1, 1, 1, 1, 1, 1, 1, 1, 1, 1, 1, 1, 1, 1,\n",
              "       1, 1, 1, 1, 1, 1, 1, 1, 1, 1, 1, 1, 1, 1, 1, 1, 1, 1, 1, 1, 1, 1,\n",
              "       1, 1, 1, 1, 1, 1, 1, 1, 1, 1, 1, 1])"
            ]
          },
          "metadata": {},
          "execution_count": 10
        }
      ]
    },
    {
      "cell_type": "code",
      "source": [
        "plt.scatter(X[classes == 0, 0], X[classes == 0, 1], s = 20, c = 'b')\n",
        "plt.scatter(X[classes == 1, 0], X[classes == 1, 1], s = 20, c = 'r')"
      ],
      "metadata": {
        "colab": {
          "base_uri": "https://localhost:8080/",
          "height": 283
        },
        "id": "9SXbBASOajEz",
        "outputId": "6ce15528-b477-4f5e-a600-2233e9b9db9c"
      },
      "execution_count": 12,
      "outputs": [
        {
          "output_type": "execute_result",
          "data": {
            "text/plain": [
              "<matplotlib.collections.PathCollection at 0x7f93958966d0>"
            ]
          },
          "metadata": {},
          "execution_count": 12
        },
        {
          "output_type": "display_data",
          "data": {
            "text/plain": [
              "<Figure size 432x288 with 1 Axes>"
            ],
            "image/png": "[encoded data removed]"
          },
          "metadata": {
            "needs_background": "light"
          }
        }
      ]
    },
    {
      "cell_type": "markdown",
      "source": [
        "####Redifining the clusters\n",
        "Now we update the position of each centroid, by calculating it at the mean position of the cluster. For instance, if a certain point has the points (1,0), (2,1) and (0.5,0.5), then the updated position of the centroid is:\n",
        "\n",
        "$$c_j = ((1+2+0.5)/3) + ((0+1+0.5)/3) $$"
      ],
      "metadata": {
        "id": "pej3dQmObap9"
      }
    },
    {
      "cell_type": "code",
      "source": [
        "for class_ in set(classes):\n",
        "    centroids[class_,:] = np.mean(X[classes == class_,:],axis=0)\n",
        "centroids\n"
      ],
      "metadata": {
        "colab": {
          "base_uri": "https://localhost:8080/"
        },
        "id": "BguMMfuWalmd",
        "outputId": "86a1cf49-ed5c-43f0-cf24-00dd85758c7f"
      },
      "execution_count": 19,
      "outputs": [
        {
          "output_type": "execute_result",
          "data": {
            "text/plain": [
              "array([[ 0.02339597, -0.00693613],\n",
              "       [ 1.06090003,  1.03679825]])"
            ]
          },
          "metadata": {},
          "execution_count": 19
        }
      ]
    },
    {
      "cell_type": "code",
      "source": [
        "plt.scatter(X[classes == 0, 0], X[classes == 0, 1], s = 20, c = 'b')\n",
        "plt.scatter(X[classes == 1, 0], X[classes == 1, 1], s = 20, c = 'r')\n",
        "plt.scatter(centroids[:,0],centroids[:,1],s = 50, c = 'k',marker = '+')\n"
      ],
      "metadata": {
        "colab": {
          "base_uri": "https://localhost:8080/",
          "height": 283
        },
        "id": "EOX09MEubWTx",
        "outputId": "9e79db1a-f6ef-4be7-db2b-ddb91c03b70c"
      },
      "execution_count": 14,
      "outputs": [
        {
          "output_type": "execute_result",
          "data": {
            "text/plain": [
              "<matplotlib.collections.PathCollection at 0x7f9395806580>"
            ]
          },
          "metadata": {},
          "execution_count": 14
        },
        {
          "output_type": "display_data",
          "data": {
            "text/plain": [
              "<Figure size 432x288 with 1 Axes>"
            ],
            "image/png": "[encoded data removed]"
          },
          "metadata": {
            "needs_background": "light"
          }
        }
      ]
    },
    {
      "cell_type": "markdown",
      "source": [
        "###The complete algorithm"
      ],
      "metadata": {
        "id": "qbHYqg5KhWlr"
      }
    },
    {
      "cell_type": "code",
      "source": [
        "class KMeans:\n",
        "    def __init__(self,k):\n",
        "        self.k = k\n",
        "\n",
        "    def train(self,X,MAXITER = 100, TOL = 1e-3):\n",
        "        centroids = np.random.rand(self.k,X.shape[1])\n",
        "        centroidsold = centroids.copy()\n",
        "        for iter_ in range(MAXITER):\n",
        "            dist = np.linalg.norm(X - centroids[0,:],axis=1).reshape(-1,1)\n",
        "            for class_ in range(1,self.k):\n",
        "                dist = np.append(dist,np.linalg.norm(X - centroids[class_,:],axis=1).reshape(-1,1),axis=1)\n",
        "            classes = np.argmin(dist,axis=1)\n",
        "            # update position\n",
        "            for class_ in set(classes):\n",
        "                centroids[class_,:] = np.mean(X[classes == class_,:],axis=0)\n",
        "            if np.linalg.norm(centroids - centroidsold) < TOL:\n",
        "                break\n",
        "                print('Centroid converged')\n",
        "        self.centroids = centroids\n",
        "    \n",
        "    def predict(self,X):\n",
        "        dist = np.linalg.norm(X - self.centroids[0,:],axis=1).reshape(-1,1)\n",
        "        for class_ in range(1,self.k):\n",
        "            dist = np.append(dist,np.linalg.norm(X - self.centroids[class_,:],axis=1).reshape(-1,1),axis=1)\n",
        "        classes = np.argmin(dist,axis=1)\n",
        "        return classes"
      ],
      "metadata": {
        "id": "YXoiUaQbb4ka"
      },
      "execution_count": 15,
      "outputs": []
    },
    {
      "cell_type": "code",
      "source": [
        "kmeans = KMeans(2)\n",
        "kmeans.train(X)"
      ],
      "metadata": {
        "id": "m5_cXqiFcDxk"
      },
      "execution_count": 16,
      "outputs": []
    },
    {
      "cell_type": "code",
      "source": [
        "classes = kmeans.predict(X)\n",
        "classes"
      ],
      "metadata": {
        "colab": {
          "base_uri": "https://localhost:8080/"
        },
        "id": "a6jCihyOcGHK",
        "outputId": "da51cc00-0580-413f-c1dd-4669b77108cb"
      },
      "execution_count": 17,
      "outputs": [
        {
          "output_type": "execute_result",
          "data": {
            "text/plain": [
              "array([0, 0, 0, 0, 0, 0, 0, 0, 0, 0, 0, 0, 0, 0, 0, 0, 0, 0, 0, 0, 0, 0,\n",
              "       0, 0, 0, 0, 0, 0, 0, 0, 0, 0, 0, 0, 0, 0, 0, 0, 0, 0, 0, 0, 0, 0,\n",
              "       0, 0, 0, 0, 0, 0, 1, 1, 1, 1, 1, 1, 1, 1, 1, 1, 1, 1, 1, 1, 1, 1,\n",
              "       1, 1, 1, 1, 1, 1, 1, 1, 1, 1, 1, 1, 1, 1, 1, 1, 1, 1, 1, 1, 1, 1,\n",
              "       1, 1, 1, 1, 1, 1, 1, 1, 1, 1, 1, 1])"
            ]
          },
          "metadata": {},
          "execution_count": 17
        }
      ]
    },
    {
      "cell_type": "code",
      "source": [
        "plt.scatter(X[classes == 0, 0], X[classes == 0, 1], s = 20, c = 'b')\n",
        "plt.scatter(X[classes == 1, 0], X[classes == 1, 1], s = 20, c = 'r')\n",
        "plt.scatter(kmeans.centroids[:,0],kmeans.centroids[:,1],s = 50, c = 'k',marker = '+')\n"
      ],
      "metadata": {
        "colab": {
          "base_uri": "https://localhost:8080/",
          "height": 283
        },
        "id": "oQKOFCtMcHf3",
        "outputId": "cdd58de1-de19-4aad-b91f-02974e98f619"
      },
      "execution_count": 18,
      "outputs": [
        {
          "output_type": "execute_result",
          "data": {
            "text/plain": [
              "<matplotlib.collections.PathCollection at 0x7f9395732fa0>"
            ]
          },
          "metadata": {},
          "execution_count": 18
        },
        {
          "output_type": "display_data",
          "data": {
            "text/plain": [
              "<Figure size 432x288 with 1 Axes>"
            ],
            "image/png": "[encoded data removed]"
          },
          "metadata": {
            "needs_background": "light"
          }
        }
      ]
    },
    {
      "cell_type": "code",
      "source": [],
      "metadata": {
        "id": "wByJpRcWcJcV"
      },
      "execution_count": null,
      "outputs": []
    }
  ]
}